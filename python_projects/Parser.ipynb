{
 "cells": [
  {
   "cell_type": "code",
   "execution_count": 1,
   "id": "loose-response",
   "metadata": {},
   "outputs": [],
   "source": [
    "from urllib.parse import urlparse, parse_qsl, parse_qs\n",
    "import requests\n",
    "from bs4 import BeautifulSoup\n",
    "import re\n",
    "import json\n",
    "import time\n",
    "import gzip\n",
    "import codecs\n",
    "from tqdm import tqdm\n",
    "import sys\n",
    "\n",
    "from multiprocessing.dummy import Pool, Queue"
   ]
  },
  {
   "cell_type": "code",
   "execution_count": 4,
   "id": "legitimate-bicycle",
   "metadata": {},
   "outputs": [
    {
     "name": "stderr",
     "output_type": "stream",
     "text": [
      "100%|██████████| 300/300 [00:25<00:00, 11.58it/s]\n"
     ]
    }
   ],
   "source": [
    "list_refs = []\n",
    "s = 'https://gg.deals/games/?sort=metascore&type=1&page='\n",
    "number_hrefs = 0\n",
    "i = 0\n",
    "with tqdm(total=300) as pbar:\n",
    "    while number_hrefs < 300:\n",
    "        s_tmp = s + str(i)\n",
    "        i += 1\n",
    "\n",
    "        r_get = get_page(s_tmp)\n",
    "        if not r_get:\n",
    "            continue\n",
    "        soup = BeautifulSoup(r_get.content, \"lxml\")\n",
    "        # print(type(r_get.text))\n",
    "        # print(re.findall( r'with-badges game-id-\\d+ game-list-item item item-list grid-layout with-full-link with-game-collections-buttons', r_get.text))\n",
    "        for line in re.findall( r'with-badges game-id-\\d+ game-list-item item item-list grid-layout with-full-link with-game-collections-buttons', r_get.text):\n",
    "            g_data = soup.find_all(\"div\", {\"class\": line})\n",
    "            if not g_data:\n",
    "                continue\n",
    "            list_refs.append('http://gg.deals' + g_data[0].a.get('href'))\n",
    "            number_hrefs += 1\n",
    "            pbar.update(1)\n",
    "            if number_hrefs == 300:\n",
    "                break\n",
    "            # print (g_data[0].a.get('href'))\n",
    "        # print(number_hrefs)\n",
    "        g_data = soup.find_all(\"div\", {\"class\": ['with-badges game-id']})\n"
   ]
  },
  {
   "cell_type": "code",
   "execution_count": null,
   "id": "oriented-provincial",
   "metadata": {},
   "outputs": [],
   "source": [
    "s = \"with-badges game-id-98969\"\n",
    "print(re.findall( r'with-badges game-id-\\d', s))\n",
    "list_refs[0] = \"\"\n",
    "print(list_refs[0])"
   ]
  },
  {
   "cell_type": "code",
   "execution_count": 40,
   "id": "unexpected-bryan",
   "metadata": {},
   "outputs": [],
   "source": [
    "def get_page(url, n_attempts=5, t_sleep=1, **kwargs):\n",
    "    for i in range(n_attempts):\n",
    "        try:\n",
    "            r_get = requests.get(url, **kwargs)\n",
    "        except Exception:\n",
    "            continue\n",
    "        if r_get.status_code == 200:\n",
    "            return r_get\n",
    "        time.sleep(t_sleep)\n",
    "    return None\n"
   ]
  },
  {
   "cell_type": "code",
   "execution_count": 6,
   "id": "romance-porcelain",
   "metadata": {},
   "outputs": [
    {
     "name": "stdout",
     "output_type": "stream",
     "text": [
      "200\n"
     ]
    }
   ],
   "source": [
    "r_get = get_page('https://gg.deals/game/half-life-2/')\n",
    "soup = BeautifulSoup(r_get.content, \"lxml\")\n",
    "print (r_get.status_code)"
   ]
  },
  {
   "cell_type": "code",
   "execution_count": 7,
   "id": "atmospheric-longitude",
   "metadata": {},
   "outputs": [],
   "source": [
    "def find_name(soup):\n",
    "    g_data = soup.find_all(\"div\", {\"class\": \"breadcrumbs-widget pjax-inner-replace\"})\n",
    "    if not g_data:\n",
    "        return None\n",
    "    # print(g_data[0].find_all(\"li\")[-1].span.text)\n",
    "    return g_data[0].find_all(\"li\")[-1].span.text\n"
   ]
  },
  {
   "cell_type": "code",
   "execution_count": 8,
   "id": "awful-survival",
   "metadata": {},
   "outputs": [
    {
     "data": {
      "text/plain": [
       "'https://img.gg.deals/ac/4d/26d9e40fcbbd8415599725556f465016fa61_307xt176.jpg'"
      ]
     },
     "execution_count": 8,
     "metadata": {},
     "output_type": "execute_result"
    }
   ],
   "source": [
    "def find_image(soup):\n",
    "    g_data = soup.find_all(\"div\", {\"class\": \"game-info-image\"})\n",
    "    if not g_data:\n",
    "        return None\n",
    "    # print(g_data[0].img.get(\"src\"))\n",
    "    return g_data[0].img.get(\"src\")\n",
    "    \n",
    "find_image(soup)"
   ]
  },
  {
   "cell_type": "code",
   "execution_count": 9,
   "id": "provincial-liver",
   "metadata": {},
   "outputs": [
    {
     "data": {
      "text/plain": [
       "'https://gg.deals/redirect/9107e47eabe255a536cbb7bbef321f5004a4460c/?utm_source=games%2Fsingle'"
      ]
     },
     "execution_count": 9,
     "metadata": {},
     "output_type": "execute_result"
    }
   ],
   "source": [
    "def find_href(soup):\n",
    "    g_data = soup.find_all(\"a\", {\"class\": \"game-link-widget\"})\n",
    "    if not g_data:\n",
    "        return None\n",
    "    # print(g_data[0].get(\"href\"))\n",
    "    return g_data[0].get(\"href\")\n",
    "    \n",
    "find_href(soup)"
   ]
  },
  {
   "cell_type": "code",
   "execution_count": 10,
   "id": "wicked-peoples",
   "metadata": {},
   "outputs": [
    {
     "data": {
      "text/plain": [
       "'515'"
      ]
     },
     "execution_count": 10,
     "metadata": {},
     "output_type": "execute_result"
    }
   ],
   "source": [
    "def find_wish(soup):\n",
    "    g_data = soup.find_all(\"div\", {\"class\": re.findall(\"r'wishlisted-game wishlisted-game-\\d+ game-action-wrap\", str(soup))})\n",
    "    # print(g_data)\n",
    "    if not g_data:\n",
    "        return None\n",
    "    data_tmp = g_data[0].find_all(\"span\", {\"class\":'count'})\n",
    "    if not data_tmp:\n",
    "        return None\n",
    "    # print(data_tmp[0].text)\n",
    "    return data_tmp[0].text\n",
    "\n",
    "find_wish(soup)"
   ]
  },
  {
   "cell_type": "code",
   "execution_count": 11,
   "id": "quarterly-august",
   "metadata": {},
   "outputs": [
    {
     "data": {
      "text/plain": [
       "'84'"
      ]
     },
     "execution_count": 11,
     "metadata": {},
     "output_type": "execute_result"
    }
   ],
   "source": [
    "def find_alert(soup):\n",
    "    g_data = soup.find_all(\"div\", {\"class\": re.findall(\"alerted-game alerted-game-\\d+ game-action-wrap\", str(soup))})\n",
    "    if not g_data:\n",
    "        return None\n",
    "    # print(g_data[0].find_all(\"span\", {\"class\":'count'})[0].text)\n",
    "    data_tmp = g_data[0].find_all(\"span\", {\"class\":'count'})\n",
    "    if not data_tmp:\n",
    "        return None\n",
    "    return data_tmp[0].text\n",
    "\n",
    "find_alert(soup)"
   ]
  },
  {
   "cell_type": "code",
   "execution_count": 12,
   "id": "honey-intensity",
   "metadata": {},
   "outputs": [
    {
     "data": {
      "text/plain": [
       "'17199'"
      ]
     },
     "execution_count": 12,
     "metadata": {},
     "output_type": "execute_result"
    }
   ],
   "source": [
    "def find_own(soup):\n",
    "    g_data = soup.find_all(\"div\", {\"class\": re.findall(\"owned-game owned-game-\\d+ game-action-wrap\", str(soup))})\n",
    "    if not g_data:\n",
    "        return None\n",
    "    data_tmp = g_data[0].find_all(\"span\", {\"class\":'count'})\n",
    "    # print(data_tmp[0].text)\n",
    "    return data_tmp[0].text\n",
    "\n",
    "find_own(soup)"
   ]
  },
  {
   "cell_type": "code",
   "execution_count": 13,
   "id": "physical-aside",
   "metadata": {},
   "outputs": [
    {
     "data": {
      "text/plain": [
       "['https://gg.deals/ru/pack/valve-complete-pack/',\n",
       " 'https://gg.deals/ru/pack/the-orange-box/',\n",
       " 'https://gg.deals/ru/pack/half-life-complete/',\n",
       " 'https://gg.deals/ru/pack/half-life-2---holiday-2006-collection/']"
      ]
     },
     "execution_count": 13,
     "metadata": {},
     "output_type": "execute_result"
    }
   ],
   "source": [
    "def find_packs(soup):\n",
    "    list_packs=[]\n",
    "    g_data = soup.find_all(\"div\", {\"class\": \"game-card ab-alternative-2\"})\n",
    "    if not g_data:\n",
    "        return []\n",
    "    data_tmp = g_data[0].find_all(\"div\", {\"class\": \"game-section game-offers\"})[0]\n",
    "    if not data_tmp:\n",
    "        return []\n",
    "    # print(g_data[0].div)\\\n",
    "    data_tmp = data_tmp.find_all(\"div\", {\"class\": \"games-box games-box-related-list load-more-content\"})\n",
    "    if len(data_tmp) < 2:\n",
    "        return []\n",
    "    for str in data_tmp[1].find_all(\"a\", {\"class\":\"full-link\"}):\n",
    "        list_packs.append(\"https://gg.deals\" + str.get(\"href\"))\n",
    "    # g_list = g_data[0].find_all(\"div\", {\"class\": \"game-list-item game-item game-full-hoverable with-full-link game-box-options with-game-collections-buttons related-layout game-id-43031\"})\n",
    "    return list_packs\n",
    "\n",
    "find_packs(soup)"
   ]
  },
  {
   "cell_type": "code",
   "execution_count": 14,
   "id": "right-listing",
   "metadata": {},
   "outputs": [
    {
     "data": {
      "text/plain": [
       "['gg.deals/ru/dlc/half-life-2-soundtrack/']"
      ]
     },
     "execution_count": 14,
     "metadata": {},
     "output_type": "execute_result"
    }
   ],
   "source": [
    "def find_dlcs(soup):\n",
    "    list_dlcs = []\n",
    "    g_data = soup.find_all(\"div\", {\"class\": \"game-card ab-alternative-2\"})\n",
    "    # print(g_data)\n",
    "    if not g_data:\n",
    "        return []\n",
    "    data_tmp = g_data[0].find_all(\"div\", {\"class\": \"game-related-container list-more-wrapper list-more-ajax-wrapper load-more-container\"})\n",
    "    if not data_tmp:\n",
    "        return []\n",
    "    for line in data_tmp[0].find_all(\"a\", {\"class\": \"full-link\"}):\n",
    "        list_dlcs.append(\"gg.deals\" + line.get(\"href\"))\n",
    "    return list_dlcs\n",
    "\n",
    "find_dlcs(soup)"
   ]
  },
  {
   "cell_type": "code",
   "execution_count": 15,
   "id": "instant-trinity",
   "metadata": {},
   "outputs": [
    {
     "data": {
      "text/plain": [
       "['Windows', 'Mac']"
      ]
     },
     "execution_count": 15,
     "metadata": {},
     "output_type": "execute_result"
    }
   ],
   "source": [
    "def find_pc(soup):\n",
    "    list_pc = []\n",
    "    g_data = soup.find_all(\"div\", {\"class\":\"game-requirements-tabs\"})\n",
    "    if not g_data:\n",
    "        return []\n",
    "    g_data = g_data[0].find_all(\"li\")\n",
    "    if not g_data:\n",
    "        return []\n",
    "    for line in g_data:\n",
    "        list_pc.append(str(line.text))\n",
    "    return list_pc\n",
    "\n",
    "find_pc(soup)"
   ]
  },
  {
   "cell_type": "code",
   "execution_count": 16,
   "id": "distinguished-sitting",
   "metadata": {},
   "outputs": [
    {
     "data": {
      "text/plain": [
       "'16 Nov 2004'"
      ]
     },
     "execution_count": 16,
     "metadata": {},
     "output_type": "execute_result"
    }
   ],
   "source": [
    "def get_data(soup):\n",
    "    g_data = soup.find_all(\"div\", {\"class\":\"game-info-details-section game-info-details-section-release\"})\n",
    "    if not g_data:\n",
    "        return None\n",
    "    # print (g_data[0].p.text)\n",
    "    return g_data[0].p.text\n",
    "    \n",
    "get_data(soup)"
   ]
  },
  {
   "cell_type": "code",
   "execution_count": 17,
   "id": "dried-charity",
   "metadata": {},
   "outputs": [
    {
     "data": {
      "text/plain": [
       "'Valve'"
      ]
     },
     "execution_count": 17,
     "metadata": {},
     "output_type": "execute_result"
    }
   ],
   "source": [
    "def get_developer(soup):\n",
    "    g_data = soup.find_all(\"div\", {\"class\":\"game-info-details-section game-info-details-section-developer\"})\n",
    "    if not g_data:\n",
    "        return None\n",
    "    # print (g_data[0].p.text)\n",
    "    return g_data[0].p.text\n",
    "    \n",
    "get_developer(soup)"
   ]
  },
  {
   "cell_type": "code",
   "execution_count": 18,
   "id": "twelve-schedule",
   "metadata": {},
   "outputs": [
    {
     "data": {
      "text/plain": [
       "'91'"
      ]
     },
     "execution_count": 18,
     "metadata": {},
     "output_type": "execute_result"
    }
   ],
   "source": [
    "def get_metascore(soup):\n",
    "    g_data = soup.find_all(\"div\", {\"class\":\"game-info-details-content\"})\n",
    "    if not g_data:\n",
    "        return None\n",
    "    data_tmp = g_data[0].find_all(\"div\", {\"class\":\"score-col\"})\n",
    "    if not data_tmp:\n",
    "        return None\n",
    "    ans = data_tmp[0].span.text\n",
    "    # print (ans)\n",
    "    return ans\n",
    "\n",
    "\n",
    "r_get = requests.get('https://gg.deals/game/mission-its-complicated/')\n",
    "soup = BeautifulSoup(r_get.content, \"lxml\")\n",
    "get_metascore(soup)"
   ]
  },
  {
   "cell_type": "code",
   "execution_count": 19,
   "id": "impossible-notification",
   "metadata": {},
   "outputs": [],
   "source": [
    "def get_userscore(soup):\n",
    "    g_data = soup.find_all(\"div\", {\"class\":\"game-info-details-content\"})\n",
    "    # print(g_data)\n",
    "    if not g_data:\n",
    "        return None\n",
    "    data_tmp = g_data[0].select('div[class=\"score-col\"]')\n",
    "    if (len(data_tmp) < 2):\n",
    "        return None\n",
    "    ans = data_tmp[1].span.text\n",
    "    # print (ans)\n",
    "    return ans\n",
    "\n",
    "\n",
    "\n",
    "r_get = requests.get('https://gg.deals/game/mission-its-complicated/')\n",
    "soup = BeautifulSoup(r_get.content, \"lxml\")\n",
    "get_userscore(soup)"
   ]
  },
  {
   "cell_type": "code",
   "execution_count": 20,
   "id": "spectacular-birth",
   "metadata": {},
   "outputs": [
    {
     "data": {
      "text/plain": [
       "['Adventure', 'Casual', 'Indie']"
      ]
     },
     "execution_count": 20,
     "metadata": {},
     "output_type": "execute_result"
    }
   ],
   "source": [
    "def get_genres(soup):\n",
    "    list_genres = []\n",
    "    g_data = soup.find_all(\"div\", {\"class\":\"tags-list link-list\"})\n",
    "    if not g_data:\n",
    "        return []\n",
    "    for line in g_data[0].find_all(\"a\"):\n",
    "        list_genres.append(line.text)\n",
    "    # print(list_genres)\n",
    "    return list_genres\n",
    "    \n",
    "get_genres(soup)"
   ]
  },
  {
   "cell_type": "code",
   "execution_count": 21,
   "id": "voluntary-pencil",
   "metadata": {},
   "outputs": [
    {
     "data": {
      "text/plain": [
       "['Casual',\n",
       " 'Superhero',\n",
       " 'Visual Novel',\n",
       " 'Romance',\n",
       " 'Dating Sim',\n",
       " 'Choices Matter',\n",
       " 'LGBTQ+',\n",
       " 'Story Rich',\n",
       " 'Adventure',\n",
       " 'Indie',\n",
       " 'Funny',\n",
       " 'Free to Play',\n",
       " 'Singleplayer',\n",
       " 'Action',\n",
       " 'Arcade',\n",
       " 'Exploration',\n",
       " 'Turn-Based Tactics',\n",
       " '2D',\n",
       " 'Anime',\n",
       " 'Cartoon']"
      ]
     },
     "execution_count": 21,
     "metadata": {},
     "output_type": "execute_result"
    }
   ],
   "source": [
    "def get_tags(soup):\n",
    "    list_tags = []\n",
    "    g_data = soup.find_all(\"div\", {\"class\":\"tags-list tags-list-dotdotdot\"})\n",
    "    for line in g_data[0].find_all(\"a\"):\n",
    "        list_tags.append(line.text)\n",
    "    # print(list_tags)\n",
    "    return list_tags\n",
    "    \n",
    "get_tags(soup)"
   ]
  },
  {
   "cell_type": "code",
   "execution_count": 22,
   "id": "composed-swedish",
   "metadata": {},
   "outputs": [
    {
     "data": {
      "text/plain": [
       "['Single-player', 'Steam Achievements', 'Steam Cloud']"
      ]
     },
     "execution_count": 22,
     "metadata": {},
     "output_type": "execute_result"
    }
   ],
   "source": [
    "def get_features(soup):\n",
    "    list_features = []\n",
    "    g_data = soup.find_all(\"div\", {\"class\":\"tags-list tags-list-dotdotdot\"})\n",
    "    if (len(g_data) < 2):\n",
    "        return []\n",
    "    for line in g_data[1].find_all(\"a\"):\n",
    "        list_features.append(line.text)\n",
    "    # print(list_features)\n",
    "    return list_features\n",
    "\n",
    "get_features(soup)"
   ]
  },
  {
   "cell_type": "code",
   "execution_count": 23,
   "id": "personalized-annex",
   "metadata": {},
   "outputs": [
    {
     "data": {
      "text/plain": [
       "['Very Positive', '122']"
      ]
     },
     "execution_count": 23,
     "metadata": {},
     "output_type": "execute_result"
    }
   ],
   "source": [
    "def get_label_count(soup):\n",
    "    g_data = soup.find_all(\"div\", {\"class\":\"score-heading\"})\n",
    "    if not g_data:\n",
    "        return None\n",
    "    data_tmp = g_data[0].find_all(\"a\")\n",
    "    if not data_tmp:\n",
    "        return None\n",
    "    data_tmp = data_tmp[0].find_all(\"span\", {\"class\":\"reviews-label\"})\n",
    "    if not data_tmp:\n",
    "        return None\n",
    "    ans = data_tmp[0].text\n",
    "    ans = ans.replace(' (', '_ ')\n",
    "    ans = ans.replace(')', '_ ')\n",
    "    ans = ans.replace(',', '')\n",
    "    return re.split('_ ', ans)[0:-1]\n",
    "    \n",
    "get_label_count(soup)"
   ]
  },
  {
   "cell_type": "code",
   "execution_count": 24,
   "id": "separate-groove",
   "metadata": {},
   "outputs": [
    {
     "data": {
      "text/plain": [
       "96"
      ]
     },
     "execution_count": 24,
     "metadata": {},
     "output_type": "execute_result"
    }
   ],
   "source": [
    "def get_pctg(soup):\n",
    "    # g_data = soup.find_all(\"div\", {\"class\":\"score-heading\"})\n",
    "    g_data = soup.find_all(\"span\", {\"class\" : re.findall(\"score-bar score-steam\", str(soup))})\n",
    "    if not g_data:\n",
    "        return None\n",
    "    data_tmp = g_data[0].find_all(\"span\")\n",
    "    if not data_tmp:\n",
    "        return None\n",
    "    data_tmp = data_tmp[0].get(\"class\")\n",
    "    if (len(data_tmp) < 2):\n",
    "        return None\n",
    "    ans = re.findall(r'\\d+', data_tmp[1])\n",
    "    # print(int(re.findall(r'\\d+', ans)[0]))\n",
    "    if not ans:\n",
    "        return None\n",
    "    return int(ans[0])\n",
    "    \n",
    "get_pctg(soup)"
   ]
  },
  {
   "cell_type": "code",
   "execution_count": 25,
   "id": "proud-detail",
   "metadata": {},
   "outputs": [],
   "source": [
    "r_get = requests.get('https://gg.deals/ru/games/chartHistoricalData/1549/?hideKeyshops=0')\n",
    "# print((r_get.content))\n",
    "# response = json.loads(requests.get(\"https://gg.deals/ru/games/chartHistoricalData/1549/?hideKeyshops=1\").text)"
   ]
  },
  {
   "cell_type": "code",
   "execution_count": 26,
   "id": "hungry-polish",
   "metadata": {
    "scrolled": false
   },
   "outputs": [
    {
     "data": {
      "text/plain": [
       "[{'ts': 1601506940, 'price': 0, 'shop': 'Steam'},\n",
       " {'ts': 1619946497, 'price': 0, 'shop': 'Steam'}]"
      ]
     },
     "execution_count": 26,
     "metadata": {},
     "output_type": "execute_result"
    }
   ],
   "source": [
    "def get_price_history(soup):\n",
    "    list_prices = []\n",
    "    g_data = soup.find_all(\"div\", {\"id\": 'historical-chart-container'})\n",
    "    if not g_data:\n",
    "        return []\n",
    "    url = g_data[0].get(\"data-with-keyshops-url\")\n",
    "    r_get = get_page('https://gg.deals' + url, headers={'x-requested-with': 'XMLHttpRequest'})\n",
    "    if not r_get:\n",
    "        return []\n",
    "    json_data = json.loads(r_get.text)\n",
    "    # print(json_data['chartData']['deals'])\n",
    "    if not json_data['chartData'] or not json_data['chartData']['deals']:\n",
    "        return []\n",
    "    for list_iter in json_data['chartData']['deals']:\n",
    "        list_prices.append({'ts': int(list_iter['x'] / 1000), 'price': list_iter['y'], 'shop': list_iter['shop']})\n",
    "    return list_prices\n",
    "\n",
    "get_price_history(soup)"
   ]
  },
  {
   "cell_type": "code",
   "execution_count": null,
   "id": "favorite-estonia",
   "metadata": {},
   "outputs": [],
   "source": [
    "def process_page(href):\n",
    "    r_get = get_page(href)\n",
    "    if  not r_get:\n",
    "        # print(href + \"problems with\")\n",
    "        return None\n",
    "    soup = BeautifulSoup(r_get.content, \"lxml\")\n",
    "    result = {\n",
    "        \"url\": href,\n",
    "        \"name\": find_name(soup),\n",
    "        \"image\": find_image(soup),\n",
    "        \"release_date\": get_data(soup),\n",
    "        \"developer\": get_developer(soup),\n",
    "        \"metacritic_score\": int(get_metascore(soup)) if get_metascore(soup) else None,\n",
    "        \"user_score\": float(get_userscore(soup)) if get_userscore(soup) else None,\n",
    "        \"review_label\": get_label_count(soup)[0] if get_label_count(soup) else None,\n",
    "        \"review_positive_pctg\": get_pctg(soup),\n",
    "        \"review_count\": int(get_label_count(soup)[1]) if get_label_count(soup) else None,\n",
    "        \"genres\": get_genres(soup),\n",
    "        \"tags\": get_tags(soup),\n",
    "        \"features\": get_features(soup),\n",
    "        \"pc_systems\": find_pc(soup),\n",
    "        \"wishlist_count\": int(find_wish(soup)),\n",
    "        \"alert_count\": int(find_alert(soup)),\n",
    "        \"owners_count\": int(find_own(soup)),\n",
    "        \"dlcs\": find_dlcs(soup),\n",
    "        \"packs\": find_packs(soup),\n",
    "        \"market_url\": find_href(soup),\n",
    "        \"price_history\": get_price_history(soup)\n",
    "    }\n",
    "    return {k: v for k, v in result.items() if v is not None}\n",
    "\n",
    "# print(list_refs[219])\n",
    "# result = process_page('https://gg.deals/game/hades/')\n",
    "# json.dumps(result, ensure_ascii=False)\n",
    "# print(json.dumps(result, indent=4))"
   ]
  },
  {
   "cell_type": "code",
   "execution_count": 28,
   "id": "demanding-lounge",
   "metadata": {},
   "outputs": [
    {
     "data": {
      "text/plain": [
       "300"
      ]
     },
     "execution_count": 28,
     "metadata": {},
     "output_type": "execute_result"
    }
   ],
   "source": [
    "len(list_refs)"
   ]
  },
  {
   "cell_type": "code",
   "execution_count": 37,
   "id": "restricted-letter",
   "metadata": {},
   "outputs": [],
   "source": [
    "for href_iter in list_refs[218:219]:\n",
    "    # print (list_refs[42])\n",
    "    try:\n",
    "        json_tmp = process_page(href_iter)\n",
    "    except Exception:\n",
    "        print(\"Problems with\\t\", end='')\n",
    "        print(href_iter)\n",
    "        raise Exception\n",
    "    with open('result.txt', 'a') as f_output:\n",
    "        f_output.write(json.dumps(json_tmp))\n",
    "        f_output.write('\\n')\n",
    "        f_output.close()"
   ]
  },
  {
   "cell_type": "code",
   "execution_count": 3,
   "id": "selected-business",
   "metadata": {},
   "outputs": [],
   "source": [
    "\n",
    "\n",
    "queue = Queue(list_refs)   # очередь ссылок на книги\n"
   ]
  },
  {
   "cell_type": "code",
   "execution_count": 55,
   "id": "collectible-ottawa",
   "metadata": {
    "scrolled": true
   },
   "outputs": [
    {
     "name": "stderr",
     "output_type": "stream",
     "text": [
      "100%|██████████| 300/300 [06:22<00:00,  1.28s/it]\n"
     ]
    }
   ],
   "source": [
    "import gzip\n",
    "import codecs\n",
    "from tqdm import tqdm\n",
    "from multiprocessing.dummy import Pool, Queue\n",
    "\n",
    "queue = Queue()   # очередь ссылок на книги\n",
    "for list_tmp in list_refs:\n",
    "    queue.put(list_tmp)\n",
    "def process_page_wrapper(i):\n",
    "    with gzip.open('data/part_{:05d}.jsonl.gz'.format(i), mode='wb') as f_json:\n",
    "        f_json = codecs.getwriter('utf8')(f_json)\n",
    "        with open('{:01d}.txt'.format(i), mode='w') as f_output:\n",
    "            while not queue.empty():\n",
    "                href_tmp = queue.get()\n",
    "                # print(href_tmp + \" \", end=\"\")\n",
    "                record = process_page(href_tmp)\n",
    "                if not record:\n",
    "                    message = \"Problems with \" + href_tmp + \" . Can't download this page.\"\n",
    "                    with lock:\n",
    "                        print(message, file=sys.stderr)\n",
    "                        # print(message)\n",
    "                        pbar.update(1)\n",
    "                    continue\n",
    "                record_str = json.dumps(record, ensure_ascii=False)\n",
    "                print(record_str, file=f_json)\n",
    "                # счетчик должен атомарно обновиться\n",
    "                with lock:\n",
    "                    pbar.update(1)\n",
    "            f_output.close()\n",
    "            \n",
    "\n",
    "with Pool(processes=4) as pool, tqdm(total=queue.qsize()) as pbar:\n",
    "    lock = pbar.get_lock()\n",
    "    pool.map(process_page_wrapper, range(pool._processes))"
   ]
  },
  {
   "cell_type": "code",
   "execution_count": null,
   "id": "tight-worst",
   "metadata": {},
   "outputs": [],
   "source": []
  }
 ],
 "metadata": {
  "kernelspec": {
   "display_name": "Python 3",
   "language": "python",
   "name": "python3"
  },
  "language_info": {
   "codemirror_mode": {
    "name": "ipython",
    "version": 3
   },
   "file_extension": ".py",
   "mimetype": "text/x-python",
   "name": "python",
   "nbconvert_exporter": "python",
   "pygments_lexer": "ipython3",
   "version": "3.7.10"
  }
 },
 "nbformat": 4,
 "nbformat_minor": 5
}
